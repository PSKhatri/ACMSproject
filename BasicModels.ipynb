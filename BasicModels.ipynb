{
 "cells": [
  {
   "cell_type": "code",
   "execution_count": null,
   "metadata": {},
   "outputs": [],
   "source": [
    "#this is multinomial naive bayes\n",
    "#load data into dataframe\n",
    "#divide the data and the target columns\n",
    "#apply count vectorizer on data columns ie lyrics\n",
    "#count vectorizer will tokenize, stememetize and remove stopwords,give a unique no to each word and create a vector for each document showing whether that word is present in that document or not\n",
    "#apply tfidf on the result obtaind from count vectorizer\n",
    "#tfidf gives the product of term frequency and inverse document frequency\n",
    "#term frequency is the no of times that word occurs in that documnet\n",
    "#inverse document frequency is the no of documents in which it appears\n",
    "#tfidf gives higher weightage to those words that appears in less no of documents \n",
    "#select multinomialNB as the model \n",
    "#to the same with the test lyrics and predict the moods using the model proposed"
   ]
  },
  {
   "cell_type": "code",
   "execution_count": 1,
   "metadata": {},
   "outputs": [
    {
     "data": {
      "text/html": [
       "<div>\n",
       "<style scoped>\n",
       "    .dataframe tbody tr th:only-of-type {\n",
       "        vertical-align: middle;\n",
       "    }\n",
       "\n",
       "    .dataframe tbody tr th {\n",
       "        vertical-align: top;\n",
       "    }\n",
       "\n",
       "    .dataframe thead th {\n",
       "        text-align: right;\n",
       "    }\n",
       "</style>\n",
       "<table border=\"1\" class=\"dataframe\">\n",
       "  <thead>\n",
       "    <tr style=\"text-align: right;\">\n",
       "      <th></th>\n",
       "      <th>artist</th>\n",
       "      <th>title</th>\n",
       "      <th>lyrics</th>\n",
       "      <th>mood</th>\n",
       "      <th>year</th>\n",
       "    </tr>\n",
       "  </thead>\n",
       "  <tbody>\n",
       "    <tr>\n",
       "      <th>0</th>\n",
       "      <td>Casual</td>\n",
       "      <td>I Didn't Mean To</td>\n",
       "      <td>Verse One:\\n\\nAlright I might\\nHave had a litt...</td>\n",
       "      <td>sad</td>\n",
       "      <td>1994.0</td>\n",
       "    </tr>\n",
       "    <tr>\n",
       "      <th>1</th>\n",
       "      <td>Adam Ant</td>\n",
       "      <td>Something Girls</td>\n",
       "      <td>Adam Ant/Marco Pirroni\\nEvery girl is a someth...</td>\n",
       "      <td>happy</td>\n",
       "      <td>1982.0</td>\n",
       "    </tr>\n",
       "    <tr>\n",
       "      <th>2</th>\n",
       "      <td>Gob</td>\n",
       "      <td>Face the Ashes</td>\n",
       "      <td>I've just erased it's been a while, I've got a...</td>\n",
       "      <td>sad</td>\n",
       "      <td>2007.0</td>\n",
       "    </tr>\n",
       "    <tr>\n",
       "      <th>3</th>\n",
       "      <td>Lionel Richie</td>\n",
       "      <td>Tonight Will Be Alright</td>\n",
       "      <td>Little darling \\nWhere you've been so long \\nI...</td>\n",
       "      <td>happy</td>\n",
       "      <td>1986.0</td>\n",
       "    </tr>\n",
       "    <tr>\n",
       "      <th>4</th>\n",
       "      <td>Blue Rodeo</td>\n",
       "      <td>Floating</td>\n",
       "      <td>Lead Vocal by Greg\\n\\nWell, these late night c...</td>\n",
       "      <td>sad</td>\n",
       "      <td>1987.0</td>\n",
       "    </tr>\n",
       "  </tbody>\n",
       "</table>\n",
       "</div>"
      ],
      "text/plain": [
       "          artist                    title  \\\n",
       "0         Casual         I Didn't Mean To   \n",
       "1       Adam Ant          Something Girls   \n",
       "2            Gob           Face the Ashes   \n",
       "3  Lionel Richie  Tonight Will Be Alright   \n",
       "4     Blue Rodeo                 Floating   \n",
       "\n",
       "                                              lyrics   mood    year  \n",
       "0  Verse One:\\n\\nAlright I might\\nHave had a litt...    sad  1994.0  \n",
       "1  Adam Ant/Marco Pirroni\\nEvery girl is a someth...  happy  1982.0  \n",
       "2  I've just erased it's been a while, I've got a...    sad  2007.0  \n",
       "3  Little darling \\nWhere you've been so long \\nI...  happy  1986.0  \n",
       "4  Lead Vocal by Greg\\n\\nWell, these late night c...    sad  1987.0  "
      ]
     },
     "execution_count": 1,
     "metadata": {},
     "output_type": "execute_result"
    }
   ],
   "source": [
    "#loads the csv file into data frame\n",
    "import pandas as pd\n",
    "\n",
    "df = pd.read_csv('/home/pooja/projectACMS/train_lyrics_1511.csv')\n",
    "\n",
    "df.head()"
   ]
  },
  {
   "cell_type": "code",
   "execution_count": 2,
   "metadata": {},
   "outputs": [
    {
     "name": "stdout",
     "output_type": "stream",
     "text": [
      "before: ['sad' 'happy' 'sad' 'happy' 'sad'] ...\n",
      "after: [1 0 1 0 1] ...\n"
     ]
    }
   ],
   "source": [
    "from sklearn.preprocessing import LabelEncoder\n",
    "import pickle\n",
    "import numpy as np\n",
    "\n",
    "X_train = df['lyrics'].values \n",
    "\n",
    "y_train = df['mood'].values\n",
    "\n",
    "print('before: %s ...' %y_train[:5])\n",
    "\n",
    "le = LabelEncoder()\n",
    "le.fit(y_train)\n",
    "y_train = le.transform(y_train)\n",
    "\n",
    "print('after: %s ...' %y_train[:5])"
   ]
  },
  {
   "cell_type": "code",
   "execution_count": 3,
   "metadata": {},
   "outputs": [
    {
     "name": "stdout",
     "output_type": "stream",
     "text": [
      "[1 0 1 0 1 0 0 0 1 1]\n"
     ]
    }
   ],
   "source": [
    "print(y_train[:10])"
   ]
  },
  {
   "cell_type": "code",
   "execution_count": 4,
   "metadata": {},
   "outputs": [
    {
     "data": {
      "text/plain": [
       "(1511, 13168)"
      ]
     },
     "execution_count": 4,
     "metadata": {},
     "output_type": "execute_result"
    }
   ],
   "source": [
    "from sklearn.feature_extraction.text import CountVectorizer\n",
    "count_vect = CountVectorizer()\n",
    "X_train_counts = count_vect.fit_transform(X_train)\n",
    "X_train_counts.shape"
   ]
  },
  {
   "cell_type": "code",
   "execution_count": 5,
   "metadata": {},
   "outputs": [
    {
     "data": {
      "text/plain": [
       "(1511, 13168)"
      ]
     },
     "execution_count": 5,
     "metadata": {},
     "output_type": "execute_result"
    }
   ],
   "source": [
    "from sklearn.feature_extraction.text import TfidfTransformer\n",
    "tf_transformer = TfidfTransformer(use_idf=False).fit(X_train_counts)\n",
    "X_train_tf = tf_transformer.transform(X_train_counts)\n",
    "X_train_tf.shape"
   ]
  },
  {
   "cell_type": "code",
   "execution_count": 6,
   "metadata": {},
   "outputs": [
    {
     "data": {
      "text/plain": [
       "(1511, 13168)"
      ]
     },
     "execution_count": 6,
     "metadata": {},
     "output_type": "execute_result"
    }
   ],
   "source": [
    "tfidf_transformer = TfidfTransformer()\n",
    "X_train_tfidf = tfidf_transformer.fit_transform(X_train_counts)\n",
    "X_train_tfidf.shape"
   ]
  },
  {
   "cell_type": "code",
   "execution_count": 7,
   "metadata": {},
   "outputs": [],
   "source": [
    "from sklearn.naive_bayes import MultinomialNB\n",
    "clf1 = MultinomialNB().fit(X_train_tfidf, y_train)"
   ]
  },
  {
   "cell_type": "code",
   "execution_count": 8,
   "metadata": {},
   "outputs": [
    {
     "data": {
      "text/html": [
       "<div>\n",
       "<style scoped>\n",
       "    .dataframe tbody tr th:only-of-type {\n",
       "        vertical-align: middle;\n",
       "    }\n",
       "\n",
       "    .dataframe tbody tr th {\n",
       "        vertical-align: top;\n",
       "    }\n",
       "\n",
       "    .dataframe thead th {\n",
       "        text-align: right;\n",
       "    }\n",
       "</style>\n",
       "<table border=\"1\" class=\"dataframe\">\n",
       "  <thead>\n",
       "    <tr style=\"text-align: right;\">\n",
       "      <th></th>\n",
       "      <th>artist</th>\n",
       "      <th>title</th>\n",
       "      <th>lyrics</th>\n",
       "      <th>mood</th>\n",
       "    </tr>\n",
       "  </thead>\n",
       "  <tbody>\n",
       "    <tr>\n",
       "      <th>0</th>\n",
       "      <td>Placebo</td>\n",
       "      <td>Where Is My Mind (XFM Live Version)</td>\n",
       "      <td>Ooooohh\\nOoooohh\\nOoooohh\\nOoooohh\\n\\nWith you...</td>\n",
       "      <td>happy</td>\n",
       "    </tr>\n",
       "    <tr>\n",
       "      <th>1</th>\n",
       "      <td>Queens Of The Stone Age</td>\n",
       "      <td>This Lullaby</td>\n",
       "      <td>Where, oh, where have you been, my love?\\nWher...</td>\n",
       "      <td>sad</td>\n",
       "    </tr>\n",
       "    <tr>\n",
       "      <th>2</th>\n",
       "      <td>MC5</td>\n",
       "      <td>Looking At You (Cody High School)</td>\n",
       "      <td>When it happened \\nsomething snapped inside \\n...</td>\n",
       "      <td>happy</td>\n",
       "    </tr>\n",
       "    <tr>\n",
       "      <th>3</th>\n",
       "      <td>Dimmu Borgir</td>\n",
       "      <td>The Fundamental Alienation</td>\n",
       "      <td>My eyes got blinded\\nAnd conned by the light\\n...</td>\n",
       "      <td>sad</td>\n",
       "    </tr>\n",
       "    <tr>\n",
       "      <th>4</th>\n",
       "      <td>Dark Fortress</td>\n",
       "      <td>The Silver Gate</td>\n",
       "      <td>[Music: V Santura, Lyrics: Morean]\\n\\nAwake, a...</td>\n",
       "      <td>sad</td>\n",
       "    </tr>\n",
       "  </tbody>\n",
       "</table>\n",
       "</div>"
      ],
      "text/plain": [
       "                    artist                                title  \\\n",
       "0                  Placebo  Where Is My Mind (XFM Live Version)   \n",
       "1  Queens Of The Stone Age                         This Lullaby   \n",
       "2                      MC5    Looking At You (Cody High School)   \n",
       "3             Dimmu Borgir           The Fundamental Alienation   \n",
       "4            Dark Fortress                      The Silver Gate   \n",
       "\n",
       "                                              lyrics   mood  \n",
       "0  Ooooohh\\nOoooohh\\nOoooohh\\nOoooohh\\n\\nWith you...  happy  \n",
       "1  Where, oh, where have you been, my love?\\nWher...    sad  \n",
       "2  When it happened \\nsomething snapped inside \\n...  happy  \n",
       "3  My eyes got blinded\\nAnd conned by the light\\n...    sad  \n",
       "4  [Music: V Santura, Lyrics: Morean]\\n\\nAwake, a...    sad  "
      ]
     },
     "execution_count": 8,
     "metadata": {},
     "output_type": "execute_result"
    }
   ],
   "source": [
    "import pandas as pd\n",
    "\n",
    "df1 = pd.read_csv('/home/pooja/projectACMS/valid_lyrics_200.csv')\n",
    "\n",
    "df1.head()"
   ]
  },
  {
   "cell_type": "code",
   "execution_count": 9,
   "metadata": {},
   "outputs": [
    {
     "name": "stdout",
     "output_type": "stream",
     "text": [
      "106\n"
     ]
    }
   ],
   "source": [
    "count=0\n",
    "X_new_counts=[]\n",
    "X_new_tdidf=[]\n",
    "X_new_counts = count_vect.transform(df1['lyrics'].values)\n",
    "X_new_tfidf = tfidf_transformer.transform(X_new_counts)\n",
    "predicted = clf1.predict(X_new_tfidf)\n",
    "#print(predicted)\n",
    "for row_id in df1.index:\n",
    "    mood=df1.loc[row_id]['mood']\n",
    "    if mood=='happy':\n",
    "        mood1=0\n",
    "    else:\n",
    "        mood1=1\n",
    "    if (predicted[row_id])==mood1:\n",
    "        count=count+1\n",
    "print(count)    "
   ]
  },
  {
   "cell_type": "code",
   "execution_count": 10,
   "metadata": {},
   "outputs": [
    {
     "name": "stdout",
     "output_type": "stream",
     "text": [
      "acc of Naive Bayes = 0.53\n"
     ]
    }
   ],
   "source": [
    "print(\"acc of Naive Bayes =\",count/200)"
   ]
  },
  {
   "cell_type": "code",
   "execution_count": 12,
   "metadata": {},
   "outputs": [
    {
     "name": "stdout",
     "output_type": "stream",
     "text": [
      "135\n"
     ]
    }
   ],
   "source": [
    "from sklearn.pipeline import Pipeline\n",
    "from sklearn.linear_model import SGDClassifier\n",
    "text_clf = Pipeline([('vect', CountVectorizer()),('tfidf', TfidfTransformer()),('clf', SGDClassifier(loss='hinge', penalty='l2',alpha=1e-3, random_state=42,max_iter=5, tol=None)),])\n",
    "text_clf.fit(X_train, y_train)  \n",
    "predicted = text_clf.predict(df1['lyrics'].values)\n",
    "count1=0\n",
    "for row_id in df1.index:\n",
    "    mood=df1.loc[row_id]['mood']\n",
    "    if mood=='happy':\n",
    "        mood1=0\n",
    "    else:\n",
    "        mood1=1\n",
    "    if (predicted[row_id])==mood1:\n",
    "        count1=count1+1\n",
    "print(count1)\n"
   ]
  },
  {
   "cell_type": "code",
   "execution_count": 13,
   "metadata": {},
   "outputs": [
    {
     "name": "stdout",
     "output_type": "stream",
     "text": [
      "acc of Sochastic gradient decent = 0.675\n"
     ]
    }
   ],
   "source": [
    "print(\"acc of Sochastic gradient decent =\",count1/200)"
   ]
  },
  {
   "cell_type": "code",
   "execution_count": 14,
   "metadata": {},
   "outputs": [
    {
     "name": "stdout",
     "output_type": "stream",
     "text": [
      "95\n"
     ]
    }
   ],
   "source": [
    "from sklearn.svm import SVC\n",
    "text_clf1=Pipeline([('vect', CountVectorizer()),('tfidf', TfidfTransformer()),('clf', SVC()),])\n",
    "text_clf1.fit(X_train, y_train)  \n",
    "predicted = text_clf1.predict(df1['lyrics'].values)\n",
    "count2=0\n",
    "for row_id in df1.index:\n",
    "    mood=df1.loc[row_id]['mood']\n",
    "    if mood=='happy':\n",
    "        mood1=0\n",
    "    else:\n",
    "        mood1=1\n",
    "    if (predicted[row_id])==mood1:\n",
    "        count2=count2+1\n",
    "print(count2)\n"
   ]
  },
  {
   "cell_type": "code",
   "execution_count": 15,
   "metadata": {},
   "outputs": [
    {
     "name": "stdout",
     "output_type": "stream",
     "text": [
      "acc of Support Vector Machine = 0.475\n"
     ]
    }
   ],
   "source": [
    "print(\"acc of Support Vector Machine =\", count2/200)"
   ]
  },
  {
   "cell_type": "code",
   "execution_count": 37,
   "metadata": {},
   "outputs": [
    {
     "name": "stdout",
     "output_type": "stream",
     "text": [
      "117\n"
     ]
    }
   ],
   "source": [
    "from sklearn.ensemble import RandomForestClassifier\n",
    "text_clf2=Pipeline([('vect', CountVectorizer()),('tfidf', TfidfTransformer()),('clf', RandomForestClassifier() ),])\n",
    "text_clf2.fit(X_train, y_train)  \n",
    "predicted = text_clf2.predict(df1['lyrics'].values)\n",
    "count3=0\n",
    "for row_id in df1.index:\n",
    "    mood=df1.loc[row_id]['mood']\n",
    "    if mood=='happy':\n",
    "        mood1=0\n",
    "    else:\n",
    "        mood1=1\n",
    "    if (predicted[row_id])==mood1:\n",
    "        count3=count3+1\n",
    "print(count3)"
   ]
  },
  {
   "cell_type": "code",
   "execution_count": 27,
   "metadata": {},
   "outputs": [
    {
     "name": "stdout",
     "output_type": "stream",
     "text": [
      "acc of Random Forest = 0.635\n"
     ]
    }
   ],
   "source": [
    "print(\"acc of Random Forest =\", count3/200)"
   ]
  },
  {
   "cell_type": "code",
   "execution_count": 28,
   "metadata": {},
   "outputs": [
    {
     "name": "stdout",
     "output_type": "stream",
     "text": [
      "125\n"
     ]
    }
   ],
   "source": [
    "from sklearn.neighbors import KNeighborsClassifier\n",
    "text_clf3=Pipeline([('vect', CountVectorizer()),('tfidf', TfidfTransformer()),('clf', KNeighborsClassifier(n_neighbors=10) ),])\n",
    "text_clf3.fit(X_train, y_train)  \n",
    "predicted = text_clf3.predict(df1['lyrics'].values)\n",
    "count4=0\n",
    "for row_id in df1.index:\n",
    "    mood=df1.loc[row_id]['mood']\n",
    "    if mood=='happy':\n",
    "        mood1=0\n",
    "    else:\n",
    "        mood1=1\n",
    "    if (predicted[row_id])==mood1:\n",
    "        count4=count4+1\n",
    "print(count4)"
   ]
  },
  {
   "cell_type": "code",
   "execution_count": 29,
   "metadata": {},
   "outputs": [
    {
     "name": "stdout",
     "output_type": "stream",
     "text": [
      "acc of KNN = 0.625\n"
     ]
    }
   ],
   "source": [
    "print(\"acc of KNN =\", count4/200)"
   ]
  },
  {
   "cell_type": "code",
   "execution_count": 30,
   "metadata": {},
   "outputs": [
    {
     "name": "stdout",
     "output_type": "stream",
     "text": [
      "136\n"
     ]
    },
    {
     "name": "stderr",
     "output_type": "stream",
     "text": [
      "/home/pooja/.local/lib/python3.5/site-packages/sklearn/linear_model/ridge.py:319: UserWarning: In Ridge, only 'sag' solver can currently fit the intercept when X is sparse. Solver has been automatically changed into 'sag'.\n",
      "  warnings.warn(\"In Ridge, only 'sag' solver can currently fit the \"\n"
     ]
    }
   ],
   "source": [
    "from sklearn.linear_model import RidgeClassifier\n",
    "text_clf4=Pipeline([('vect', CountVectorizer()),('tfidf', TfidfTransformer()),('clf',RidgeClassifier(tol=1e-2, solver=\"lsqr\") ),])\n",
    "text_clf4.fit(X_train, y_train)  \n",
    "predicted = text_clf4.predict(df1['lyrics'].values)\n",
    "count5=0\n",
    "for row_id in df1.index:\n",
    "    mood=df1.loc[row_id]['mood']\n",
    "    if mood=='happy':\n",
    "        mood1=0\n",
    "    else:\n",
    "        mood1=1\n",
    "    if (predicted[row_id])==mood1:\n",
    "        count5=count5+1\n",
    "print(count5)\n"
   ]
  },
  {
   "cell_type": "code",
   "execution_count": 31,
   "metadata": {},
   "outputs": [
    {
     "name": "stdout",
     "output_type": "stream",
     "text": [
      "acc of Ridge classifier = 0.68\n"
     ]
    }
   ],
   "source": [
    "print(\"acc of Ridge classifier =\", count5/200)"
   ]
  },
  {
   "cell_type": "code",
   "execution_count": 32,
   "metadata": {},
   "outputs": [
    {
     "name": "stdout",
     "output_type": "stream",
     "text": [
      "136\n"
     ]
    },
    {
     "name": "stderr",
     "output_type": "stream",
     "text": [
      "/home/pooja/.local/lib/python3.5/site-packages/sklearn/linear_model/stochastic_gradient.py:117: DeprecationWarning: n_iter parameter is deprecated in 0.19 and will be removed in 0.21. Use max_iter and tol instead.\n",
      "  DeprecationWarning)\n"
     ]
    }
   ],
   "source": [
    "from sklearn.linear_model import Perceptron\n",
    "text_clf5=Pipeline([('vect', CountVectorizer()),('tfidf', TfidfTransformer()),('clf',Perceptron(n_iter=50) ),])\n",
    "text_clf5.fit(X_train, y_train)  \n",
    "predicted = text_clf5.predict(df1['lyrics'].values)\n",
    "count6=0\n",
    "for row_id in df1.index:\n",
    "    mood=df1.loc[row_id]['mood']\n",
    "    if mood=='happy':\n",
    "        mood1=0\n",
    "    else:\n",
    "        mood1=1\n",
    "    if (predicted[row_id])==mood1:\n",
    "        count6=count6+1\n",
    "print(count6)"
   ]
  },
  {
   "cell_type": "code",
   "execution_count": 33,
   "metadata": {},
   "outputs": [
    {
     "name": "stdout",
     "output_type": "stream",
     "text": [
      "acc of Perceptron = 0.68\n"
     ]
    }
   ],
   "source": [
    "print(\"acc of Perceptron =\",count6/200)"
   ]
  },
  {
   "cell_type": "code",
   "execution_count": 34,
   "metadata": {},
   "outputs": [
    {
     "name": "stdout",
     "output_type": "stream",
     "text": [
      "132\n"
     ]
    },
    {
     "name": "stderr",
     "output_type": "stream",
     "text": [
      "/home/pooja/.local/lib/python3.5/site-packages/sklearn/linear_model/stochastic_gradient.py:117: DeprecationWarning: n_iter parameter is deprecated in 0.19 and will be removed in 0.21. Use max_iter and tol instead.\n",
      "  DeprecationWarning)\n"
     ]
    }
   ],
   "source": [
    "from sklearn.linear_model import PassiveAggressiveClassifier\n",
    "text_clf6=Pipeline([('vect', CountVectorizer()),('tfidf', TfidfTransformer()),('clf',PassiveAggressiveClassifier(n_iter=50) ),])\n",
    "text_clf6.fit(X_train, y_train)  \n",
    "predicted = text_clf6.predict(df1['lyrics'].values)\n",
    "count7=0\n",
    "for row_id in df1.index:\n",
    "    mood=df1.loc[row_id]['mood']\n",
    "    if mood=='happy':\n",
    "        mood1=0\n",
    "    else:\n",
    "        mood1=1\n",
    "    if (predicted[row_id])==mood1:\n",
    "        count7=count7+1\n",
    "print(count7)"
   ]
  },
  {
   "cell_type": "code",
   "execution_count": 35,
   "metadata": {},
   "outputs": [
    {
     "name": "stdout",
     "output_type": "stream",
     "text": [
      "acc of Passive Aggressive Classifier = 0.66\n"
     ]
    }
   ],
   "source": [
    "print(\"acc of Passive Aggressive Classifier =\", count7/200)"
   ]
  },
  {
   "cell_type": "code",
   "execution_count": null,
   "metadata": {},
   "outputs": [],
   "source": []
  }
 ],
 "metadata": {
  "kernelspec": {
   "display_name": "Python 3",
   "language": "python",
   "name": "python3"
  },
  "language_info": {
   "codemirror_mode": {
    "name": "ipython",
    "version": 3
   },
   "file_extension": ".py",
   "mimetype": "text/x-python",
   "name": "python",
   "nbconvert_exporter": "python",
   "pygments_lexer": "ipython3",
   "version": "3.5.2"
  }
 },
 "nbformat": 4,
 "nbformat_minor": 2
}
